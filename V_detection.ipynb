{
 "cells": [
  {
   "cell_type": "code",
   "execution_count": 1,
   "id": "45442d2e",
   "metadata": {},
   "outputs": [],
   "source": [
    "import cv2\n",
    "import numpy as np"
   ]
  },
  {
   "cell_type": "code",
   "execution_count": 2,
   "id": "88364024",
   "metadata": {},
   "outputs": [
    {
     "name": "stdout",
     "output_type": "stream",
     "text": [
      "Requirement already satisfied: opencv-contrib-python in /home/aniq/anaconda3/lib/python3.8/site-packages (4.5.3.56)\r\n",
      "Requirement already satisfied: numpy>=1.17.3 in /home/aniq/anaconda3/lib/python3.8/site-packages (from opencv-contrib-python) (1.20.3)\r\n"
     ]
    }
   ],
   "source": [
    "!pip install opencv-contrib-python"
   ]
  },
  {
   "cell_type": "code",
   "execution_count": 3,
   "id": "bc9e3b28",
   "metadata": {},
   "outputs": [],
   "source": [
    "cap = cv2.VideoCapture('testVideo.mp4')\n",
    "sub = cv2.createBackgroundSubtractorMOG2()\n",
    "v_detection = []\n",
    "cmp = 0\n",
    "\n",
    "def centre(p_x, p_y, width, height):\n",
    "    x = width/2\n",
    "    y = height/2\n",
    "    n_x = int(p_x+x)\n",
    "    n_y = int(p_y+y)\n",
    "    return n_x,n_y"
   ]
  },
  {
   "cell_type": "code",
   "execution_count": 4,
   "id": "e077fb83",
   "metadata": {},
   "outputs": [],
   "source": [
    "while True:\n",
    "    ret, frame = cap.read()\n",
    "    \n",
    "    grey = cv2.cvtColor(frame, cv2.COLOR_BGR2GRAY)\n",
    "    d_noise = cv2.medianBlur(grey,7)\n",
    "    s_frame = sub.apply(d_noise)\n",
    "    \n",
    "    dilatation = cv2.dilate(s_frame,np.ones((3,3)))\n",
    "    elementStruc = cv2.getStructuringElement(cv2.MORPH_ELLIPSE,(3,3))\n",
    "    close = cv2.morphologyEx(dilatation,cv2.MORPH_CLOSE,elementStruc)\n",
    "    close = cv2.morphologyEx(close,cv2.MORPH_CLOSE,elementStruc)\n",
    "    \n",
    "    contours,h = cv2.findContours(close, cv2.RETR_TREE, cv2.CHAIN_APPROX_SIMPLE)\n",
    "    \n",
    "    cv2.line(frame, (0,300),(639,300),(255,0,0))\n",
    "    \n",
    "    for (i,c) in enumerate(contours):\n",
    "        (p_x, p_y, width, height) = cv2.boundingRect(c)\n",
    "        if (width < 80) and (height < 80):\n",
    "            continue\n",
    "        \n",
    "        cv2.rectangle(frame, (p_x,p_y), (p_x+width,p_y+height), (0,255,0))\n",
    "        \n",
    "        c = centre(p_x,p_y,width,height)\n",
    "        v_detection.append(c)\n",
    "        \n",
    "        for (x,y) in v_detection:\n",
    "            if y < 305 and y > 295:\n",
    "                cv2.line(frame, (0,300),(639,300),(0,0,255))\n",
    "                cmp +=1\n",
    "                \n",
    "            v_detection.remove((x,y))\n",
    "        \n",
    "    cv2.putText(frame,\"num: \"+str(cmp),(320,254),cv2.FONT_HERSHEY_SIMPLEX,1,(0,0,255))\n",
    "    \n",
    "    cv2.imshow(' ',frame)\n",
    "    \n",
    "    if cv2.waitKey(1) & 0xFF == ord('a'):\n",
    "        break\n",
    "\n",
    "cv2.destroyAllWindows()\n",
    "cap.release()"
   ]
  },
  {
   "cell_type": "code",
   "execution_count": null,
   "id": "5c038c3a",
   "metadata": {},
   "outputs": [],
   "source": []
  }
 ],
 "metadata": {
  "kernelspec": {
   "display_name": "Python 3",
   "language": "python",
   "name": "python3"
  },
  "language_info": {
   "codemirror_mode": {
    "name": "ipython",
    "version": 3
   },
   "file_extension": ".py",
   "mimetype": "text/x-python",
   "name": "python",
   "nbconvert_exporter": "python",
   "pygments_lexer": "ipython3",
   "version": "3.8.8"
  }
 },
 "nbformat": 4,
 "nbformat_minor": 5
}
